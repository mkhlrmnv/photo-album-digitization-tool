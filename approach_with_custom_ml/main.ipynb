{
 "cells": [
  {
   "cell_type": "code",
   "execution_count": null,
   "id": "e0620c4a",
   "metadata": {},
   "outputs": [],
   "source": [
    "!pip install roboflow\n",
    "!pip install ultralytics"
   ]
  },
  {
   "cell_type": "code",
   "execution_count": null,
   "id": "e6a83db2",
   "metadata": {},
   "outputs": [
    {
     "data": {
      "text/plain": [
       "True"
      ]
     },
     "execution_count": 2,
     "metadata": {},
     "output_type": "execute_result"
    }
   ],
   "source": [
    "from ultralytics import YOLO\n",
    "from roboflow import Roboflow\n",
    "import cv2\n",
    "import os\n",
    "from dotenv import load_dotenv\n",
    "load_dotenv() \n"
   ]
  },
  {
   "cell_type": "code",
   "execution_count": null,
   "id": "4e785274",
   "metadata": {},
   "outputs": [],
   "source": [
    "rf = Roboflow(api_key=os.getenv(\"ROBOFLOW_API_KEY\"))\n",
    "project = rf.workspace(\"mikhails-thesis\").project(\"photo-album-processing-a1imo\")\n",
    "version = project.version(2)\n",
    "dataset = version.download(\"yolov8-obb\")\n",
    "                "
   ]
  },
  {
   "cell_type": "code",
   "execution_count": null,
   "id": "d3024d14",
   "metadata": {},
   "outputs": [],
   "source": [
    "\n",
    "\n",
    "model = YOLO(\"yolov8m-obb.pt\")  # Use yolov8n-obb.pt, yolov8s-obb.pt, etc.\n",
    "\n",
    "model.train(data=dataset.location + \"/data.yaml\", epochs=200, imgsz=640, val=True)"
   ]
  },
  {
   "cell_type": "code",
   "execution_count": null,
   "id": "ea244ef8",
   "metadata": {},
   "outputs": [
    {
     "name": "stdout",
     "output_type": "stream",
     "text": [
      "\n",
      "image 1/1 /Users/mkhlrmnv/Desktop/kuva-prosessointi/kuva-processointi/photo-album-processing-2/train/images/Skannaus-3_jpeg.rf.63c1e7bc3b16129091b72ffad8c105a7.jpg: 640x480 None215.9ms\n",
      "Speed: 1.7ms preprocess, 215.9ms inference, 0.6ms postprocess per image at shape (1, 3, 640, 480)\n"
     ]
    },
    {
     "ename": "",
     "evalue": "",
     "output_type": "error",
     "traceback": [
      "\u001b[1;31mThe Kernel crashed while executing code in the current cell or a previous cell. \n",
      "\u001b[1;31mPlease review the code in the cell(s) to identify a possible cause of the failure. \n",
      "\u001b[1;31mClick <a href='https://aka.ms/vscodeJupyterKernelCrash'>here</a> for more info. \n",
      "\u001b[1;31mView Jupyter <a href='command:jupyter.viewOutput'>log</a> for further details."
     ]
    }
   ],
   "source": [
    "model = YOLO(\"/Users/mkhlrmnv/Desktop/kuva-prosessointi/custom_ml/finetuned-yolov8m-obb-200epoch.pt\")\n",
    "\n",
    "res = model.predict(\"/Users/mkhlrmnv/Desktop/kuva-prosessointi/kuva-processointi/photo-album-processing-2/train/images/Skannaus-3_jpeg.rf.63c1e7bc3b16129091b72ffad8c105a7.jpg\", conf=0.4)\n",
    "\n",
    "cv2.imshow(\"img\", res[0].plot())\n",
    "cv2.waitKey(0)\n",
    "cv2.destroyAllWindows()"
   ]
  },
  {
   "cell_type": "code",
   "execution_count": null,
   "id": "e69b5f42",
   "metadata": {},
   "outputs": [],
   "source": [
    "import glob\n",
    "import os\n",
    "\n",
    "# Load the model\n",
    "model = YOLO(\"/Users/mkhlrmnv/Desktop/kuva-prosessointi/custom_ml/finetuned-yolov8m-obb-200epoch.pt\")\n",
    "\n",
    "# Define the folder path containing images\n",
    "image_folder = \"/Users/mkhlrmnv/Desktop/kuva-prosessointi/kuva-processointi/photo-album-processing-2/train/images/\"\n",
    "\n",
    "# Supported image extensions\n",
    "image_extensions = ['*.jpg', '*.jpeg', '*.png', '*.bmp', '*.tiff', '*.tif']\n",
    "\n",
    "# Get all image files in the folder\n",
    "image_files = []\n",
    "for ext in image_extensions:\n",
    "    image_files.extend(glob.glob(os.path.join(image_folder, ext)))\n",
    "    image_files.extend(glob.glob(os.path.join(image_folder, ext.upper())))\n",
    "\n",
    "print(f\"Found {len(image_files)} images in the folder\")\n",
    "\n",
    "# Process each image\n",
    "for i, image_path in enumerate(image_files):\n",
    "    print(f\"Processing image {i+1}/{len(image_files)}: {os.path.basename(image_path)}\")\n",
    "    \n",
    "    # Make prediction\n",
    "    results = model.predict(image_path, conf=0.4)\n",
    "    \n",
    "    # Get the plotted image with bounding boxes\n",
    "    plotted_img = results[0].plot()\n",
    "    \n",
    "    # Display the image\n",
    "    cv2.imshow(f'Detection Results - {os.path.basename(image_path)}', plotted_img)\n",
    "    \n",
    "    # Wait for key press - press 'q' to quit, any other key to continue\n",
    "    key = cv2.waitKey(0) & 0xFF\n",
    "    cv2.destroyAllWindows()\n",
    "    \n",
    "    if key == ord('q'):\n",
    "        print(\"Stopping processing...\")\n",
    "        break\n",
    "    \n",
    "    print(f\"Detected {len(results[0].boxes)} objects in {os.path.basename(image_path)}\")\n",
    "\n",
    "print(\"Processing complete!\")"
   ]
  },
  {
   "cell_type": "code",
   "execution_count": null,
   "id": "53a5e516",
   "metadata": {},
   "outputs": [],
   "source": [
    "# Alternative: Batch process all images without display\n",
    "# Useful for collecting statistics or saving results\n",
    "\n",
    "image_folder = \"/Users/mkhlrmnv/Desktop/kuva-prosessointi/kuva-processointi/photo-album-processing-2/train/images/\"\n",
    "output_folder = \"/Users/mkhlrmnv/Desktop/kuva-prosessointi/output/\"\n",
    "\n",
    "# Create output folder if it doesn't exist\n",
    "os.makedirs(output_folder, exist_ok=True)\n",
    "\n",
    "# Get all image files\n",
    "image_files = []\n",
    "for ext in ['*.jpg', '*.jpeg', '*.png', '*.bmp']:\n",
    "    image_files.extend(glob.glob(os.path.join(image_folder, ext)))\n",
    "\n",
    "detection_stats = []\n",
    "\n",
    "for i, image_path in enumerate(image_files):\n",
    "    filename = os.path.basename(image_path)\n",
    "    print(f\"Processing {i+1}/{len(image_files)}: {filename}\")\n",
    "    \n",
    "    # Make prediction\n",
    "    results = model.predict(image_path, conf=0.4, save=False)\n",
    "    \n",
    "    # Collect statistics\n",
    "    num_detections = len(results[0].boxes) if results[0].boxes is not None else 0\n",
    "    detection_stats.append({\n",
    "        'filename': filename,\n",
    "        'detections': num_detections,\n",
    "        'confidence_scores': results[0].boxes.conf.tolist() if results[0].boxes is not None else []\n",
    "    })\n",
    "    \n",
    "    # Optional: Save annotated image\n",
    "    if num_detections > 0:\n",
    "        annotated_img = results[0].plot()\n",
    "        output_path = os.path.join(output_folder, f\"annotated_{filename}\")\n",
    "        cv2.imwrite(output_path, cv2.cvtColor(annotated_img, cv2.COLOR_RGB2BGR))\n",
    "\n",
    "print(f\"\\nProcessing complete! Statistics:\")\n",
    "print(f\"Total images processed: {len(image_files)}\")\n",
    "print(f\"Images with detections: {sum(1 for stat in detection_stats if stat['detections'] > 0)}\")\n",
    "print(f\"Total detections: {sum(stat['detections'] for stat in detection_stats)}\")\n",
    "\n",
    "# Show detailed stats\n",
    "for stat in detection_stats[:5]:  # Show first 5 results\n",
    "    print(f\"{stat['filename']}: {stat['detections']} detections\")"
   ]
  }
 ],
 "metadata": {
  "kernelspec": {
   "display_name": "kuvat",
   "language": "python",
   "name": "python3"
  },
  "language_info": {
   "codemirror_mode": {
    "name": "ipython",
    "version": 3
   },
   "file_extension": ".py",
   "mimetype": "text/x-python",
   "name": "python",
   "nbconvert_exporter": "python",
   "pygments_lexer": "ipython3",
   "version": "3.13.2"
  }
 },
 "nbformat": 4,
 "nbformat_minor": 5
}
